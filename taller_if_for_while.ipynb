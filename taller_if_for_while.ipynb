{
  "nbformat": 4,
  "nbformat_minor": 0,
  "metadata": {
    "colab": {
      "provenance": []
    },
    "kernelspec": {
      "name": "python3",
      "display_name": "Python 3"
    },
    "language_info": {
      "name": "python"
    }
  },
  "cells": [
    {
      "cell_type": "code",
      "source": [
        "def entretener_sobrino():\n",
        "    while True:\n",
        "        edad = int(input(\"¿Cuál es la edad de tu sobrino? \"))\n",
        "\n",
        "        if edad >= 0 and edad <= 2:\n",
        "            actividad = \"Jugar con juguetes suaves\"\n",
        "        elif edad >= 3 and edad <= 5:\n",
        "            actividad = \"Jugar con bloques\"\n",
        "        elif edad >= 6 and edad <= 12:\n",
        "            actividad = \"Jugar juegos de mesa\"\n",
        "        else:\n",
        "            print(\"Edad no válida. Intenta de nuevo.\")\n",
        "            continue\n",
        "\n",
        "        interes = input(\"¿Qué le gusta a tu sobrino? (música, arte, tecnología) \")\n",
        "\n",
        "        if interes == \"música\":\n",
        "            actividad += \", tocar instrumentos\"\n",
        "        elif interes == \"arte\":\n",
        "            actividad += \", hacer manualidades\"\n",
        "        elif interes == \"tecnología\":\n",
        "            actividad += \", jugar videojuegos\"\n",
        "        else:\n",
        "            print(\"Interés no válido. Intenta de nuevo.\")\n",
        "            continue\n",
        "\n",
        "        opcion = int(input(\"¿Qué actividad prefieres? (1) \" + actividad + \", (2) Ir al parque \"))\n",
        "\n",
        "        if opcion == 1:\n",
        "            print(\"Vamos a \" + actividad)\n",
        "        elif opcion == 2:\n",
        "            print(\"Vamos al parque\")\n",
        "        else:\n",
        "            print(\"Opción no válida. Intenta de nuevo.\")\n",
        "            continue\n",
        "\n",
        "        # Usando el bucle for para gestionar la opción de continuar\n",
        "        for _ in range(1):\n",
        "            respuesta = input(\"¿Quieres seguir? (sí/no) \")\n",
        "            if respuesta.lower() == \"no\":\n",
        "                print(\"¡Hasta la próxima!\")\n",
        "                return  # Termina la función y el bucle\n",
        "            elif respuesta.lower() == \"sí\":\n",
        "                break\n",
        "            else:\n",
        "                print(\"Respuesta no válida. Debes responder 'sí' o 'no'.\")\n",
        "                continue\n",
        "\n",
        "entretener_sobrino()"
      ],
      "metadata": {
        "id": "iUMV7krcOR8y"
      },
      "execution_count": null,
      "outputs": []
    }
  ]
}